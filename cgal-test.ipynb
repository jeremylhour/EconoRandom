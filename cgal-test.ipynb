{
 "cells": [
  {
   "cell_type": "code",
   "execution_count": 1,
   "metadata": {},
   "outputs": [],
   "source": [
    "### GCAL test\n",
    "### 30/06/2020\n",
    "### Jérémy L'Hour\n",
    "\n",
    "# sudo apt-get install libcgal-dev # Install CGAL\n",
    "# sudo apt-get install swig # Install SWIG\n",
    "# sudo apt-get install openjdk-11-jre # Install Oepn JDK 11\n",
    "\n",
    "# pip3 install cgal-bindings # CGAL for python\n",
    "\n",
    "# cmake -DCGAL_DIR=/usr/lib/CGAL -DBUILD_PYTHON=OFF -DJAVA_OUTDIR_PREFIX=../../examples/java ../..\n",
    "\n",
    "import numpy as np\n",
    "import time\n",
    "from scipy.spatial import Delaunay"
   ]
  },
  {
   "cell_type": "code",
   "execution_count": 2,
   "metadata": {},
   "outputs": [],
   "source": [
    "### Simulating points\n",
    "n1 = 10; # treated\n",
    "n0 = 200; # control\n",
    "p = 10; # dimension of covariates\n",
    "a, b, h = .1, .9, .1 # support parameters\n",
    "\n",
    "x1 = a+(b-a)*np.random.uniform(size=(n1,p))\n",
    "x0 = (a-h)+(b-a+2*h)*np.random.uniform(size=(n0,p))\n",
    "x0 = np.sqrt(x0)"
   ]
  },
  {
   "cell_type": "code",
   "execution_count": 3,
   "metadata": {},
   "outputs": [
    {
     "name": "stdout",
     "output_type": "stream",
     "text": [
      "Temps d'exécution total : 632.49 secondes ---\n"
     ]
    }
   ],
   "source": [
    "start_time = time.time()\n",
    "tri = Delaunay(x0)\n",
    "print(f\"Temps d'exécution total : {(time.time() - start_time):.2f} secondes ---\")\n"
   ]
  },
  {
   "cell_type": "code",
   "execution_count": 4,
   "metadata": {},
   "outputs": [
    {
     "ename": "ValueError",
     "evalue": "wrong dimensionality in xi",
     "output_type": "error",
     "traceback": [
      "\u001b[0;31m---------------------------------------------------------------------------\u001b[0m",
      "\u001b[0;31mValueError\u001b[0m                                Traceback (most recent call last)",
      "\u001b[0;32m<ipython-input-4-6ba25a341503>\u001b[0m in \u001b[0;36m<module>\u001b[0;34m\u001b[0m\n\u001b[1;32m      1\u001b[0m \u001b[0mp\u001b[0m \u001b[0;34m=\u001b[0m \u001b[0mnp\u001b[0m\u001b[0;34m.\u001b[0m\u001b[0marray\u001b[0m\u001b[0;34m(\u001b[0m\u001b[0;34m[\u001b[0m\u001b[0;34m(\u001b[0m\u001b[0;36m0.1\u001b[0m\u001b[0;34m,\u001b[0m \u001b[0;36m0.2\u001b[0m\u001b[0;34m)\u001b[0m\u001b[0;34m,\u001b[0m \u001b[0;34m(\u001b[0m\u001b[0;36m1.5\u001b[0m\u001b[0;34m,\u001b[0m \u001b[0;36m0.5\u001b[0m\u001b[0;34m)\u001b[0m\u001b[0;34m]\u001b[0m\u001b[0;34m)\u001b[0m\u001b[0;34m\u001b[0m\u001b[0;34m\u001b[0m\u001b[0m\n\u001b[0;32m----> 2\u001b[0;31m \u001b[0mtri\u001b[0m\u001b[0;34m.\u001b[0m\u001b[0mfind_simplex\u001b[0m\u001b[0;34m(\u001b[0m\u001b[0mp\u001b[0m\u001b[0;34m)\u001b[0m\u001b[0;34m\u001b[0m\u001b[0;34m\u001b[0m\u001b[0m\n\u001b[0m",
      "\u001b[0;32mqhull.pyx\u001b[0m in \u001b[0;36mscipy.spatial.qhull.Delaunay.find_simplex\u001b[0;34m()\u001b[0m\n",
      "\u001b[0;31mValueError\u001b[0m: wrong dimensionality in xi"
     ]
    }
   ],
   "source": [
    "p = np.array([(0.1, 0.2), (1.5, 0.5)])\n",
    "tri.find_simplex(p)"
   ]
  }
 ],
 "metadata": {
  "kernelspec": {
   "display_name": "Python 3",
   "language": "python",
   "name": "python3"
  },
  "language_info": {
   "codemirror_mode": {
    "name": "ipython",
    "version": 3
   },
   "file_extension": ".py",
   "mimetype": "text/x-python",
   "name": "python",
   "nbconvert_exporter": "python",
   "pygments_lexer": "ipython3",
   "version": "3.7.3"
  }
 },
 "nbformat": 4,
 "nbformat_minor": 4
}
